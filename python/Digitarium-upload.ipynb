{
 "cells": [
  {
   "cell_type": "code",
   "execution_count": 1,
   "metadata": {},
   "outputs": [
    {
     "name": "stdout",
     "output_type": "stream",
     "text": [
      "Logging in to Digitarium\n",
      "Processing 1798 to Digitarium\n",
      "  - checking /home/dario/git/wienerdiarium/data/1790/1798\n",
      "  - found 5 files\n",
      "    - [1/5]\n",
      "      - uploading 10/1798-10-03.xml\n",
      "https://diarium-exist.acdh-dev.oeaw.ac.at/exist/restxq/edoc/admin/ingest/jg1798/10%2F1798-10-03.xml\n",
      "    - [2/5]\n",
      "      - uploading 09/1798-09-22.xml\n",
      "https://diarium-exist.acdh-dev.oeaw.ac.at/exist/restxq/edoc/admin/ingest/jg1798/09%2F1798-09-22.xml\n",
      "    - [3/5]\n",
      "      - uploading 09/1798-09-29.xml\n",
      "https://diarium-exist.acdh-dev.oeaw.ac.at/exist/restxq/edoc/admin/ingest/jg1798/09%2F1798-09-29.xml\n",
      "    - [4/5]\n",
      "      - uploading 09/1798-09-26.xml\n",
      "https://diarium-exist.acdh-dev.oeaw.ac.at/exist/restxq/edoc/admin/ingest/jg1798/09%2F1798-09-26.xml\n",
      "    - [5/5]\n",
      "      - uploading 07/1798-07-25.xml\n",
      "https://diarium-exist.acdh-dev.oeaw.ac.at/exist/restxq/edoc/admin/ingest/jg1798/07%2F1798-07-25.xml\n"
     ]
    }
   ],
   "source": [
    "import os\n",
    "import requests\n",
    "from git import Repo\n",
    "\n",
    "year = \"1798\"\n",
    "\n",
    "server = \"https://diarium-exist.acdh-dev.oeaw.ac.at\"\n",
    "login = server + \"/exist/apps/edoc/login\"\n",
    "loginData = {\n",
    "    \"user\": \"kampkaspar\",\n",
    "    \"pass\": \"21Ec2020\"\n",
    "}\n",
    "\n",
    "print (\"Logging in to Digitarium\")\n",
    "s = requests.session()\n",
    "s = requests.post(login, loginData)\n",
    "\n",
    "print (\"Processing \" + year + \" to Digitarium\")\n",
    "collectionID = \"jg\" + year\n",
    "\n",
    "directory = \"/home/dario/git/wienerdiarium/data/\" + year[0:3] + \"0/\" + year\n",
    "print (\"  - checking \" + directory)\n",
    "\n",
    "relFiles = []\n",
    "for root, dirs, files in os.walk(directory):\n",
    "  for file in files:\n",
    "    if (file != \"wdbmeta.xml\"):\n",
    "      relFiles += [ os.path.relpath(os.path.join(root, file), directory) ]\n",
    "\n",
    "length = len(relFiles)\n",
    "print (\"  - found \" + str(length) + \" files\")\n",
    "i = 0\n",
    "\n",
    "for file in relFiles:\n",
    "    i += 1\n",
    "    print (\"    - [\" + str(i) + \"/\" + str(length) + \"]\")\n",
    "    print (\"      - uploading \" + str(file))\n",
    "    uri = server + \"/exist/restxq/edoc/admin/ingest/\" + collectionID + \"/\" + file.replace('/', '%2F')\n",
    "    print(uri)"
   ]
  }
 ],
 "metadata": {
  "kernelspec": {
   "display_name": "Python 3",
   "language": "python",
   "name": "python3"
  },
  "language_info": {
   "codemirror_mode": {
    "name": "ipython",
    "version": 3
   },
   "file_extension": ".py",
   "mimetype": "text/x-python",
   "name": "python",
   "nbconvert_exporter": "python",
   "pygments_lexer": "ipython3",
   "version": "3.6.8"
  }
 },
 "nbformat": 4,
 "nbformat_minor": 2
}
