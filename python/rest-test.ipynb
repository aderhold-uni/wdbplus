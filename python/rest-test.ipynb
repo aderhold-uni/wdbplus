{
 "cells": [
  {
   "cell_type": "code",
   "execution_count": 144,
   "metadata": {},
   "outputs": [],
   "source": [
    "import os\n",
    "from requests import Request, Session\n",
    "import mimetypes\n",
    "\n",
    "def setData(path):\n",
    "    mime = mimetypes.guess_type(path)\n",
    "    return {\"file\": (path, (open(path, \"rb\")).read(), mime)}\n",
    "\n",
    "def test(params, expectation, text):\n",
    "    s = Session()\n",
    "    r = requests.Request(**params).prepare()\n",
    "    request = s.send(r)\n",
    "    result = str(request.status_code) == expectation\n",
    "    print (text + \": \" + str(result))\n",
    "    if not result:\n",
    "        print (\"Expected %s, got %s\"%(expectation, str(request.status_code)))\n",
    "        print (request.text)\n",
    "    print (\"=====\")\n",
    "\n",
    "\n",
    "server = \"http://localhost:8080/exist/restxq/edoc/\"\n",
    "\n",
    "loginData = {\n",
    "    \"user\": \"kampkaspar\",\n",
    "    \"pass\": \"21Ec2020\"\n",
    "}\n",
    "auth = (\"admin\", \"kbh2689\")\n",
    "\n",
    "xmlLocation = \"/home/dario/git/wdbplus/test/wdbmeta.xml\"\n",
    "xmlFiles = setData(xmlLocation)\n",
    "\n",
    "txtLocation = \"/home/dario/git/wdbplus/test/readme.md\"\n",
    "txtFiles = setData(txtLocation)\n",
    "\n",
    "jsLocation = \"/home/dario/git/wdbplus/test/function.js\"\n",
    "jsFiles = setData(jsLocation)\n",
    "\n",
    "cssLocation = \"/home/dario/git/wdbplus/test/wdb.css\"\n",
    "cssFiles = setData(jsLocation)\n",
    "\n",
    "data = {\"filename\": \"texts/storedTest.xml\"}"
   ]
  },
  {
   "cell_type": "code",
   "execution_count": 148,
   "metadata": {},
   "outputs": [
    {
     "name": "stdout",
     "output_type": "stream",
     "text": [
      "Test 0 of 2\n",
      "POST without authentication: True\n",
      "=====\n",
      "Test 1 of 2\n",
      "POST with authentication: False\n",
      "Expected 201, got 409\n",
      "conflict for ID data at /db/apps/edoc/data/TEST/texts/storedTest.xml and type ('application/xml', None)\n",
      "=====\n"
     ]
    }
   ],
   "source": [
    "tests = [\n",
    "    ({'data': data, 'files': txtFiles, 'url': server + \"collection/TEST\", 'method': \"POST\"},\n",
    "            \"401\",\n",
    "            \"POST without authentication\"),\n",
    "    ({'data': data, 'files': xmlFiles, 'auth': auth, 'method': \"POST\", 'url': server + \"collection/TEST\"},\n",
    "            \"201\",\n",
    "            \"POST with authentication\")\n",
    "]\n",
    "\n",
    "for i, v in enumerate(tests):\n",
    "    print (\"Test %s of %s\"%(i, len(tests)))\n",
    "    test(v[0], v[1], v[2])"
   ]
  },
  {
   "cell_type": "code",
   "execution_count": 46,
   "metadata": {},
   "outputs": [
    {
     "name": "stdout",
     "output_type": "stream",
     "text": [
      "<Response [200]>\n"
     ]
    }
   ],
   "source": [
    "#print(xmlContent)\n",
    "#Xdata = '<TEI xmlns=\"http://www.tei-c.org/ns/1.0\"><text>test</text></TEI>'\n",
    "#Xdata = '<TEI xmlns=\"http://www.tei-c.org/ns/1.0\" />'\n",
    "put = requests.post(url = server + \"test/ingest\", files = xmlFiles, data = data)\n",
    "#put = requests.put(url = \"https://httpbin.org/put\", data = Xdata)\n",
    "#detected = mimetypes.guess_type(txtLocation)\n",
    "#print (detected)\n",
    "print (put)"
   ]
  }
 ],
 "metadata": {
  "kernelspec": {
   "display_name": "Python 3",
   "language": "python",
   "name": "python3"
  },
  "language_info": {
   "codemirror_mode": {
    "name": "ipython",
    "version": 3
   },
   "file_extension": ".py",
   "mimetype": "text/x-python",
   "name": "python",
   "nbconvert_exporter": "python",
   "pygments_lexer": "ipython3",
   "version": "3.7.5rc1"
  }
 },
 "nbformat": 4,
 "nbformat_minor": 2
}
